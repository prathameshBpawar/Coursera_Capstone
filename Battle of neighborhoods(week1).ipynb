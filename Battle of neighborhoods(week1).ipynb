{
 "cells": [
  {
   "cell_type": "markdown",
   "metadata": {},
   "source": [
    "## Introduction/Business Problem\n",
    "\n",
    "Paris is the capital of France and its largest city. Well known for its cuisine, art and fashion, its economic and cultural life is flourishing.  \n",
    "It is the crowdest city in Europe and one of the most important political and educational centres in EU.\n",
    "People are living well, but what are they doing in order to maintain their health?  \n",
    "Under these circumstances, one investor came to us with this question: where, in Paris, would be the best place to open a fitness center?\n",
    "\n",
    "\n"
   ]
  },
  {
   "cell_type": "markdown",
   "metadata": {},
   "source": [
    "## Data \n",
    "\n",
    "Paris has 20 boroughs, each with 4 neighborhoods. We will try to identify the place for a new gym based on the density of population and the number of gyms in each area.\n",
    "This will be our starting point to finally identify the most appropriate place to open a gym.\n",
    "The data for this project will be taken from 2 sources:\n",
    "- a wikipedia page: https://en.wikipedia.org/wiki/Quarters_of_Paris with info about the population in each neighborhood;\n",
    "- a file from the french government with latitude and longitude of each neighborhood: https://www.data.gouv.fr/en/datasets/quartiers-administratifs\n",
    "\n",
    "We will use pandas, folium, heatmaps and foursquare to identify the already existing gyms.  \n",
    "First, we will process the two files, in order to be able to merge them.  \n",
    "Secondly, we will get the information about the gyms from foursquare and place it into a new dataframe.  \n",
    "Thirdly, we will merge this dataframe with the previous one, keepinf only the necessary information.  \n",
    "The next step is to use the describe function to find the mean for population and gyms.  \n",
    "Once this is done, we will drop from our dataframe the values: less than mean for population and greater than mean for gyms and we will generate a heatmap showing the best places to open a gym."
   ]
  },
  {
   "cell_type": "code",
   "execution_count": null,
   "metadata": {},
   "outputs": [],
   "source": []
  }
 ],
 "metadata": {
  "kernelspec": {
   "display_name": "Python 3",
   "language": "python",
   "name": "python3"
  },
  "language_info": {
   "codemirror_mode": {
    "name": "ipython",
    "version": 3
   },
   "file_extension": ".py",
   "mimetype": "text/x-python",
   "name": "python",
   "nbconvert_exporter": "python",
   "pygments_lexer": "ipython3",
   "version": "3.7.3"
  }
 },
 "nbformat": 4,
 "nbformat_minor": 2
}
